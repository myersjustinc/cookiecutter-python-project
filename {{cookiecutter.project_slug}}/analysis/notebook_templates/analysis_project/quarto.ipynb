{
  "cells": [
    {
      "cell_type": "raw",
      "metadata": {},
      "source": [
        "---\n",
        "title: Analysis notebook\n",
        "format:\n",
        "  html:\n",
        "    code-fold: true\n",
        "execute:\n",
        "  echo: false\n",
        "---"
      ]
    },
    {
      "cell_type": "markdown",
      "metadata": {},
      "source": [
        "In @fig-bars, you can see a bit of stuff."
      ]
    },
    {
      "cell_type": "code",
      "metadata": {},
      "source": [
        "#| label: fig-bars\n",
        "#| fig-cap: \"Bars of arbitrary information\"\n",
        "#| warning: false  # See https://github.com/altair-viz/altair/issues/3181\n",
        "\n",
        "# Adapted from https://altair-viz.github.io/gallery/simple_bar_chart.html\n",
        "\n",
        "import altair as alt\n",
        "import pandas as pd\n",
        "\n",
        "data = pd.DataFrame({\n",
        "  'letter': ['A', 'B', 'C'],\n",
        "  'number': [30, 40, 50],\n",
        "})\n",
        "alt.Chart(data).mark_bar().encode(x='letter', y='number')"
      ],
      "execution_count": null,
      "outputs": []
    }
  ],
  "metadata": {
    "kernelspec": {
      "name": "python3",
      "language": "python",
      "display_name": "cps-school-profiles"
    }
  },
  "nbformat": 4,
  "nbformat_minor": 4
}